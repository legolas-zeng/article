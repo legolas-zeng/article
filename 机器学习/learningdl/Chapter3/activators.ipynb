{
 "cells": [
  {
   "cell_type": "markdown",
   "metadata": {},
   "source": [
    "## 激活函数的实现"
   ]
  },
  {
   "cell_type": "markdown",
   "metadata": {},
   "source": [
    "### Sigmoid函数的实现"
   ]
  },
  {
   "cell_type": "code",
   "execution_count": null,
   "metadata": {
    "collapsed": true
   },
   "outputs": [],
   "source": [
    "class Sigmoid(Operator):\n",
    "    def __init__(self, input_variable=Variable, name=str):\n",
    "        self.input_variables = input_variable\n",
    "        self.output_variables = Variable(self.input_variables.shape, name='out', scope=name)\n",
    "        Operator.__init__(self, name, self.input_variables, self.output_variables)\n",
    "\n",
    "    def forward(self):\n",
    "        if self.wait_forward:\n",
    "            for parent in self.parent:\n",
    "                GLOBAL_VARIABLE_SCOPE[parent].eval()\n",
    "            # y = 1/(1+exp(-x))\n",
    "            self.output_variables.data = 1.0/(1.0+np.exp(-self.input_variables.data))\n",
    "            self.wait_forward = False\n",
    "            return\n",
    "        else:\n",
    "            pass\n",
    "\n",
    "    def backward(self):\n",
    "        if self.wait_forward:\n",
    "            pass\n",
    "        else:\n",
    "            for child in self.child:\n",
    "                GLOBAL_VARIABLE_SCOPE[child].diff_eval()\n",
    "            # eta_x = eta_y * (1-y) * y\n",
    "            self.input_variables.diff = self.output_variables.data * (\n",
    "            1 - self.output_variables.data) * self.output_variables.diff\n",
    "            self.wait_forward = True\n",
    "            return"
   ]
  },
  {
   "cell_type": "markdown",
   "metadata": {},
   "source": [
    "### Relu函数"
   ]
  },
  {
   "cell_type": "code",
   "execution_count": null,
   "metadata": {},
   "outputs": [],
   "source": [
    "forward:\n",
    "    self.output_variables.data = np.maximum(self.input_variables.data, 0)\n",
    "backward:\n",
    "    self.output_variables.diff[self.input_variables.data < 0] = 0\n"
   ]
  },
  {
   "cell_type": "markdown",
   "metadata": {},
   "source": [
    "### 总结"
   ]
  },
  {
   "cell_type": "code",
   "execution_count": 2,
   "metadata": {
    "collapsed": true
   },
   "outputs": [],
   "source": [
    "import numpy as np\n",
    "\n",
    "\n",
    "class ReluActivator(object):\n",
    "    def forward(self, weighted_input):\n",
    "        return max(0, weighted_input)\n",
    "\n",
    "    def backward(self, output):\n",
    "        return 1 if output > 0 else 0\n",
    "\n",
    "\n",
    "class IdentityActivator(object):\n",
    "    def forward(self, weighted_input):\n",
    "        return weighted_input\n",
    "\n",
    "    def backward(self, output):\n",
    "        return 1\n",
    "\n",
    "\n",
    "class SigmoidActivator(object):\n",
    "    def forward(self, weighted_input):\n",
    "        return 1.0 / (1.0 + np.exp(-weighted_input))\n",
    "    def backward(self, output):\n",
    "        return output * (1 - output)\n",
    "\n",
    "\n",
    "class TanhActivator(object):\n",
    "    def forward(self, weighted_input):\n",
    "        return 2.0 / (1.0 + np.exp(-2 * weighted_input)) - 1.0\n",
    "\n",
    "    def backward(self, output):\n",
    "        return 1 - output * output"
   ]
  }
 ],
 "metadata": {
  "kernelspec": {
   "display_name": "Python 2",
   "language": "python",
   "name": "python2"
  },
  "language_info": {
   "codemirror_mode": {
    "name": "ipython",
    "version": 2
   },
   "file_extension": ".py",
   "mimetype": "text/x-python",
   "name": "python",
   "nbconvert_exporter": "python",
   "pygments_lexer": "ipython2",
   "version": "2.7.13"
  }
 },
 "nbformat": 4,
 "nbformat_minor": 2
}
