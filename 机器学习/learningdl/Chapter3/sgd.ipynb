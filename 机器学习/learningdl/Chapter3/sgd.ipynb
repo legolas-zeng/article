{
 "cells": [
  {
   "cell_type": "markdown",
   "metadata": {},
   "source": [
    "## SGD的代码实现"
   ]
  },
  {
   "cell_type": "markdown",
   "metadata": {},
   "source": [
    "### 传统的梯度下降和随机梯度下降区别"
   ]
  },
  {
   "cell_type": "markdown",
   "metadata": {},
   "source": [
    "- 传统的梯度下降训练过程"
   ]
  },
  {
   "cell_type": "code",
   "execution_count": null,
   "metadata": {
    "collapsed": true
   },
   "outputs": [],
   "source": [
    "while True:\n",
    "    Wgradient = evaluate_gradient(loss, data, W)\n",
    "    W += -alpha * Wgradient"
   ]
  },
  {
   "cell_type": "markdown",
   "metadata": {},
   "source": [
    "- 随机梯度下降的训练过程"
   ]
  },
  {
   "cell_type": "code",
   "execution_count": null,
   "metadata": {
    "collapsed": true
   },
   "outputs": [],
   "source": [
    "while True:\n",
    "    batch = next_training_batch(data, 256)\n",
    "    Wgradient = evaluate_gradient(loss, batch, W)\n",
    "    W += -alpha * Wgradient"
   ]
  },
  {
   "cell_type": "markdown",
   "metadata": {},
   "source": [
    "- 传统梯度下降的具体过程"
   ]
  },
  {
   "cell_type": "code",
   "execution_count": null,
   "metadata": {
    "collapsed": true
   },
   "outputs": [],
   "source": [
    "import matplotlib.pyplot as plt\n",
    "from sklearn.datasets.samples_generator import make_blobs\n",
    "import numpy as np\n",
    "import argparse\n",
    " \n",
    "def sigmoid_activation(x):\n",
    "    return 1.0 / (1 + np.exp(-x))"
   ]
  },
  {
   "cell_type": "code",
   "execution_count": null,
   "metadata": {},
   "outputs": [],
   "source": [
    "# 设置外部参数\n",
    "ap = argparse.ArgumentParser()\n",
    "ap.add_argument(\"-e\", \"--epochs\", type=float, default=100,\n",
    "    help=\"# of epochs\")\n",
    "ap.add_argument(\"-a\", \"--alpha\", type=float, default=0.01,\n",
    "    help=\"learning rate\")\n",
    "args = vars(ap.parse_args())"
   ]
  },
  {
   "cell_type": "code",
   "execution_count": null,
   "metadata": {
    "collapsed": true
   },
   "outputs": [],
   "source": [
    "# 生成样本，包含250个二分类的样本，每个样本都是一个二维的向量\n",
    "(X, y) = make_blobs(n_samples=250, n_features=2, centers=2,\n",
    "    cluster_std=1.05, random_state=20)\n",
    "\n",
    "X = np.c_[np.ones((X.shape[0])), X]\n",
    " \n",
    "# 初始化权重\n",
    "W = np.random.uniform(size=(X.shape[1],))\n",
    " \n",
    "# 存储每次迭代的loss值\n",
    "lossHistory = []"
   ]
  },
  {
   "cell_type": "code",
   "execution_count": null,
   "metadata": {},
   "outputs": [],
   "source": [
    "for epoch in np.arange(0, args[\"epochs\"]):\n",
    "    preds = sigmoid_activation(X.dot(W))\n",
    "\n",
    "    error = preds - y\n",
    " \n",
    "    loss = np.sum(error ** 2)\n",
    "    lossHistory.append(loss)\n",
    "    print(\"[INFO] epoch #{}, loss={:.7f}\".format(epoch + 1, loss))"
   ]
  },
  {
   "cell_type": "code",
   "execution_count": null,
   "metadata": {
    "collapsed": true
   },
   "outputs": [],
   "source": [
    "Y = (-W[0] - (W[1] * X)) / W[2]\n",
    " \n",
    "plt.figure()\n",
    "plt.scatter(X[:, 1], X[:, 2], marker=\"o\", c=y)\n",
    "plt.plot(X, Y, \"r-\")\n",
    " \n",
    "fig = plt.figure()\n",
    "plt.plot(np.arange(0, args[\"epochs\"]), lossHistory)\n",
    "fig.suptitle(\"Training Loss\")\n",
    "plt.xlabel(\"Epoch #\")\n",
    "plt.ylabel(\"Loss\")\n",
    "plt.show()"
   ]
  },
  {
   "cell_type": "markdown",
   "metadata": {},
   "source": [
    "### 随机梯度下降过程"
   ]
  },
  {
   "cell_type": "code",
   "execution_count": null,
   "metadata": {
    "collapsed": true
   },
   "outputs": [],
   "source": [
    "import matplotlib.pyplot as plt\n",
    "from sklearn.datasets.samples_generator import make_blobs\n",
    "import numpy as np\n",
    "import argparse\n",
    " \n",
    "def sigmoid_activation(x):\n",
    "    return 1.0 / (1 + np.exp(-x))\n",
    " \n",
    "def next_training_batch(X, y, batchSize):\n",
    "    for i in np.arange(0, X.shape[0], batchSize):\n",
    "        yield (X[i:i + batchSize], y[i:i + batchSize])"
   ]
  },
  {
   "cell_type": "code",
   "execution_count": null,
   "metadata": {
    "collapsed": true
   },
   "outputs": [],
   "source": [
    "ap = argparse.ArgumentParser()\n",
    "ap.add_argument(\"-e\", \"--epochs\", type=float, default=100,\n",
    "    help=\"# of epochs\")\n",
    "ap.add_argument(\"-a\", \"--alpha\", type=float, default=0.01,\n",
    "    help=\"learning rate\")\n",
    "ap.add_argument(\"-b\", \"--batch-size\", type=int, default=32,\n",
    "    help=\"size of SGD mini-batches\")\n",
    "args = vars(ap.parse_args())"
   ]
  },
  {
   "cell_type": "code",
   "execution_count": null,
   "metadata": {
    "collapsed": true
   },
   "outputs": [],
   "source": [
    "(X, y) = make_blobs(n_samples=400, n_features=2, centers=2,\n",
    "    cluster_std=2.5, random_state=95)\n",
    "X = np.c_[np.ones((X.shape[0])), X]\n",
    " \n",
    "\n",
    "print(\"[INFO] starting training...\")\n",
    "W = np.random.uniform(size=(X.shape[1],))\n",
    " \n",
    "lossHistory = []"
   ]
  },
  {
   "cell_type": "code",
   "execution_count": null,
   "metadata": {
    "collapsed": true
   },
   "outputs": [],
   "source": [
    "for epoch in np.arange(0, args[\"epochs\"]):\n",
    "    epochLoss = []\n",
    " \n",
    "    for (batchX, batchY) in next_training_batch(X, y, args[\"batch_size\"]):\n",
    "\n",
    "        preds = sigmoid_activation(batchX.dot(W))\n",
    " \n",
    "\n",
    "        error = preds - batchY\n",
    " \n",
    "\n",
    "        loss = np.sum(error ** 2)\n",
    "        epochLoss.append(loss)\n",
    " \n",
    "\n",
    "        gradient = batchX.T.dot(error) / batchX.shape[0]\n",
    " \n",
    "\n",
    "        W += -args[\"alpha\"] * gradient\n",
    " \n",
    "\n",
    "    lossHistory.append(np.average(epochLoss))"
   ]
  },
  {
   "cell_type": "code",
   "execution_count": null,
   "metadata": {
    "collapsed": true
   },
   "outputs": [],
   "source": [
    "Y = (-W[0] - (W[1] * X)) / W[2]\n",
    " \n",
    "plt.figure()\n",
    "plt.scatter(X[:, 1], X[:, 2], marker=\"o\", c=y)\n",
    "plt.plot(X, Y, \"r-\")\n",
    " \n",
    "fig = plt.figure()\n",
    "plt.plot(np.arange(0, args[\"epochs\"]), lossHistory)\n",
    "fig.suptitle(\"Training Loss\")\n",
    "plt.xlabel(\"Epoch #\")\n",
    "plt.ylabel(\"Loss\")\n",
    "plt.show()"
   ]
  }
 ],
 "metadata": {
  "kernelspec": {
   "display_name": "Python 2",
   "language": "python",
   "name": "python2"
  },
  "language_info": {
   "codemirror_mode": {
    "name": "ipython",
    "version": 2
   },
   "file_extension": ".py",
   "mimetype": "text/x-python",
   "name": "python",
   "nbconvert_exporter": "python",
   "pygments_lexer": "ipython2",
   "version": "2.7.13"
  }
 },
 "nbformat": 4,
 "nbformat_minor": 2
}
