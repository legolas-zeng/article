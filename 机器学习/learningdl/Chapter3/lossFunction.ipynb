{
 "cells": [
  {
   "cell_type": "markdown",
   "metadata": {},
   "source": [
    "## 损失函数的实现"
   ]
  },
  {
   "cell_type": "markdown",
   "metadata": {},
   "source": [
    "TensorFlow针对分类问题，实现了四个交叉熵函数，分别是\n",
    "\n",
    "- tf.nn.sigmoid_cross_entropy_with_logits\n",
    "\n",
    "- tf.nn.softmax_cross_entropy_with_logits\n",
    "\n",
    "- tf.nn.sparse_softmax_cross_entropy_with_logits\n",
    "\n",
    "- tf.nn.weighted_cross_entropy_with_logits"
   ]
  },
  {
   "cell_type": "markdown",
   "metadata": {
    "collapsed": true
   },
   "source": [
    "### sigmoid_cross_entropy_with_logits"
   ]
  },
  {
   "cell_type": "markdown",
   "metadata": {},
   "source": [
    "$设x = logits, z = targets$\n",
    "$$z * -log(sigmoid(x)) + (1-z) * -log(1-sigmoid(x))\n",
    "=x - x * z +log(1 + exp(-x))$$"
   ]
  },
  {
   "cell_type": "code",
   "execution_count": null,
   "metadata": {
    "collapsed": true
   },
   "outputs": [],
   "source": [
    "tf.nn.sigmoid_cross_entropy_with_logits "
   ]
  },
  {
   "cell_type": "markdown",
   "metadata": {},
   "source": [
    "### softmax_cross_entropy_with_logits"
   ]
  },
  {
   "cell_type": "markdown",
   "metadata": {},
   "source": [
    "对于每个batch $i$ 和类别 $j$ :\n",
    "- $softmax = exp (logits) / reduce_sum(exp(label), dim)$"
   ]
  },
  {
   "cell_type": "code",
   "execution_count": null,
   "metadata": {
    "collapsed": true
   },
   "outputs": [],
   "source": [
    "tf.nn.softmax_cross_entropy_with_logits(logits,labels,dim = -1 ,name = None)"
   ]
  },
  {
   "cell_type": "markdown",
   "metadata": {},
   "source": [
    "### sparse_softmax_cross_entropy_with_logits"
   ]
  },
  {
   "cell_type": "code",
   "execution_count": null,
   "metadata": {
    "collapsed": true
   },
   "outputs": [],
   "source": [
    "tf.nn.sparse_softmax_cross_entropy_with_logits"
   ]
  },
  {
   "cell_type": "markdown",
   "metadata": {},
   "source": [
    "### weighted_sigmoid_cross_entropy_with_logits"
   ]
  },
  {
   "cell_type": "markdown",
   "metadata": {},
   "source": [
    "$设 x = logits, z = targets, $ q = pos_weight:\n",
    "- $qz * -log(sigmoid(x)) + (1-z) * -log(1-sigmoid(x))\n",
    "=(1-z) * x + (1 + (q-1) * z) * log(1 + exp(-x))$"
   ]
  },
  {
   "cell_type": "code",
   "execution_count": null,
   "metadata": {
    "collapsed": true
   },
   "outputs": [],
   "source": [
    "tf.nn.weighted_sigmoid_cross_entropy_with_logits"
   ]
  }
 ],
 "metadata": {
  "kernelspec": {
   "display_name": "Python 2",
   "language": "python",
   "name": "python2"
  },
  "language_info": {
   "codemirror_mode": {
    "name": "ipython",
    "version": 2
   },
   "file_extension": ".py",
   "mimetype": "text/x-python",
   "name": "python",
   "nbconvert_exporter": "python",
   "pygments_lexer": "ipython2",
   "version": "2.7.13"
  }
 },
 "nbformat": 4,
 "nbformat_minor": 2
}
