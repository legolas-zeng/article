{
 "cells": [
  {
   "cell_type": "code",
   "execution_count": 2,
   "metadata": {},
   "outputs": [
    {
     "name": "stdout",
     "output_type": "stream",
     "text": [
      "INFO:tensorflow:Restoring parameters from ./model/model.ckpt\n",
      "[[-0.47699952  0.9872564   1.4893917   1.4279399   0.13722573]\n",
      " [-0.37572548  1.5918115   1.2844796   1.2820754   0.36791658]\n",
      " [ 4.0221677  -0.26823446 -1.4047289  -1.9608123   3.9246476 ]\n",
      " [ 0.9096475   2.2025619  -0.00591889 -1.5272939   2.2707906 ]\n",
      " [ 3.2148519   0.87777627 -0.16276106 -2.2574723   2.7954879 ]]\n",
      "[2 1 0 4 0]\n",
      "{0: 'dasiy', 1: 'dandelion', 2: 'roses', 3: 'sunflowers', 4: 'tulips'}\n",
      "The prediction of flower 1 is: roses\n",
      "The prediction of flower 2 is: dandelion\n",
      "The prediction of flower 3 is: dasiy\n",
      "The prediction of flower 4 is: tulips\n",
      "The prediction of flower 5 is: dasiy\n"
     ]
    }
   ],
   "source": [
    "#-*-:coding:utf-8\n",
    "from skimage import io,transform\n",
    "import tensorflow as tf\n",
    "import numpy as np\n",
    "\n",
    "\n",
    "path1 = \"./data/flower_photos/daisy/5547758_eea9edfd54_n.jpg\"\n",
    "path2 = \"./data/flower_photos/dandelion/7355522_b66e5d3078_m.jpg\"\n",
    "path3 = \"./data/flower_photos/roses/394990940_7af082cf8d_n.jpg\"\n",
    "path4 = \"./data/flower_photos/sunflowers/6953297_8576bf4ea3.jpg\"\n",
    "path5 = \"./data/flower_photos/tulips/10791227_7168491604.jpg\"\n",
    "\n",
    "flower_dict = {0:'dasiy',1:'dandelion',2:'roses',3:'sunflowers',4:'tulips'}\n",
    "\n",
    "w=100\n",
    "h=100\n",
    "c=3\n",
    "\n",
    "def read_one_image(path):\n",
    "    img = io.imread(path)\n",
    "    img = transform.resize(img,(w,h))\n",
    "    return np.asarray(img)\n",
    "\n",
    "with tf.Session() as sess:\n",
    "    data = []\n",
    "    data1 = read_one_image(path1)\n",
    "    data2 = read_one_image(path2)\n",
    "    data3 = read_one_image(path3)\n",
    "    data4 = read_one_image(path4)\n",
    "    data5 = read_one_image(path5)\n",
    "    data.append(data1)\n",
    "    data.append(data2)\n",
    "    data.append(data3)\n",
    "    data.append(data4)\n",
    "    data.append(data5)\n",
    "\n",
    "    saver = tf.train.import_meta_graph('./model/model.ckpt.meta')\n",
    "    saver.restore(sess,tf.train.latest_checkpoint('./model/'))\n",
    "\n",
    "    graph = tf.get_default_graph()\n",
    "    x = graph.get_tensor_by_name(\"x:0\")\n",
    "    feed_dict = {x:data}\n",
    "\n",
    "    logits = graph.get_tensor_by_name(\"logits_eval:0\")\n",
    "\n",
    "    classification_result = sess.run(logits,feed_dict)\n",
    "\n",
    "    #打印出预测矩阵\n",
    "    print(classification_result)\n",
    "    #打印出预测矩阵每一行最大值的索引\n",
    "    print(tf.argmax(classification_result,1).eval())\n",
    "    #根据索引通过字典对应花的分类\n",
    "    output = []\n",
    "    output = tf.argmax(classification_result,1).eval()\n",
    "    print (flower_dict)\n",
    "    for i in range(len(output)):\n",
    "        #print(\"The prdiction of flower\",i+1,\"is:\"+flower_dict[output[i]])\n",
    "        print(\"The prediction of flower \"+'%01d'%(i+1)+\" is: \"+'%s'%flower_dict[output[i]])\n"
   ]
  },
  {
   "cell_type": "code",
   "execution_count": null,
   "metadata": {
    "collapsed": true
   },
   "outputs": [],
   "source": []
  },
  {
   "cell_type": "code",
   "execution_count": null,
   "metadata": {
    "collapsed": true
   },
   "outputs": [],
   "source": []
  },
  {
   "cell_type": "code",
   "execution_count": null,
   "metadata": {
    "collapsed": true
   },
   "outputs": [],
   "source": []
  },
  {
   "cell_type": "code",
   "execution_count": null,
   "metadata": {
    "collapsed": true
   },
   "outputs": [],
   "source": []
  }
 ],
 "metadata": {
  "anaconda-cloud": {},
  "kernelspec": {
   "display_name": "Python 2",
   "language": "python",
   "name": "python2"
  },
  "language_info": {
   "codemirror_mode": {
    "name": "ipython",
    "version": 2
   },
   "file_extension": ".py",
   "mimetype": "text/x-python",
   "name": "python",
   "nbconvert_exporter": "python",
   "pygments_lexer": "ipython2",
   "version": "2.7.13"
  }
 },
 "nbformat": 4,
 "nbformat_minor": 1
}
