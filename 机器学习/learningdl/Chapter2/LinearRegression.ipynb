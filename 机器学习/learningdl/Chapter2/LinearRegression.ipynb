{
 "cells": [
  {
   "cell_type": "markdown",
   "metadata": {},
   "source": [
    "# Tensorflow快速入门二\n",
    "## 线性回归\n",
    "\n",
    "- 运用Tensorflow进行线性回归"
   ]
  },
  {
   "cell_type": "code",
   "execution_count": 1,
   "metadata": {
    "collapsed": true
   },
   "outputs": [],
   "source": [
    "#--*coding--:utf-8\n",
    "import tensorflow as tf\n",
    "import numpy\n",
    "import matplotlib.pyplot as plt\n",
    "rng = numpy.random"
   ]
  },
  {
   "cell_type": "code",
   "execution_count": 2,
   "metadata": {
    "collapsed": true
   },
   "outputs": [],
   "source": [
    "# 参数设定\n",
    "learning_rate = 0.01\n",
    "training_epochs = 10000\n",
    "display_step = 50"
   ]
  },
  {
   "cell_type": "code",
   "execution_count": 9,
   "metadata": {},
   "outputs": [
    {
     "name": "stdout",
     "output_type": "stream",
     "text": [
      "train_X: [ 3.3    4.4    5.5    6.71   6.93   4.168  9.779  6.182  7.59   2.167\n",
      "  7.042 10.791  5.313  7.997  5.654  9.27   3.1  ]\n",
      "train_Y: [1.7   2.76  2.09  3.19  1.694 1.573 3.366 2.596 2.53  1.221 2.827 3.465\n",
      " 1.65  2.904 2.42  2.94  1.3  ]\n"
     ]
    }
   ],
   "source": [
    "# 训练数据\n",
    "train_X = numpy.asarray([3.3,4.4,5.5,6.71,6.93,4.168,9.779,6.182,7.59,2.167,\n",
    "                         7.042,10.791,5.313,7.997,5.654,9.27,3.1])\n",
    "train_Y = numpy.asarray([1.7,2.76,2.09,3.19,1.694,1.573,3.366,2.596,2.53,1.221,\n",
    "                         2.827,3.465,1.65,2.904,2.42,2.94,1.3])\n",
    "n_samples = train_X.shape[0]\n",
    "print \"train_X:\",train_X\n",
    "print \"train_Y:\",train_Y"
   ]
  },
  {
   "cell_type": "code",
   "execution_count": 10,
   "metadata": {
    "collapsed": true
   },
   "outputs": [],
   "source": [
    "# 设置placeholder\n",
    "X = tf.placeholder(\"float\")\n",
    "Y = tf.placeholder(\"float\")\n",
    "\n",
    "# 设置模型的权重和偏置\n",
    "W = tf.Variable(rng.randn(), name=\"weight\")\n",
    "b = tf.Variable(rng.randn(), name=\"bias\")\n"
   ]
  },
  {
   "cell_type": "code",
   "execution_count": 11,
   "metadata": {
    "collapsed": true
   },
   "outputs": [],
   "source": [
    "# 设置线性回归的方程\n",
    "pred = tf.add(tf.multiply(X, W), b)"
   ]
  },
  {
   "cell_type": "code",
   "execution_count": 12,
   "metadata": {
    "collapsed": true
   },
   "outputs": [],
   "source": [
    "# 设置cost为均方差\n",
    "cost = tf.reduce_sum(tf.pow(pred-Y, 2))/(2*n_samples)\n",
    "# 梯度下降\n",
    "# 注意，minimize() 可以自动修正w和b，因为默认设置Variables的trainable=True\n",
    "optimizer = tf.train.GradientDescentOptimizer(learning_rate).minimize(cost)"
   ]
  },
  {
   "cell_type": "code",
   "execution_count": 13,
   "metadata": {
    "collapsed": true
   },
   "outputs": [],
   "source": [
    "# 初始化所有variables \n",
    "init = tf.global_variables_initializer()"
   ]
  },
  {
   "cell_type": "code",
   "execution_count": 14,
   "metadata": {},
   "outputs": [
    {
     "name": "stdout",
     "output_type": "stream",
     "text": [
      "Epoch: 0050 cost= 0.227176309 W= 0.4662498 b= -0.75714225\n",
      "Epoch: 0100 cost= 0.209824935 W= 0.45336413 b= -0.66444427\n",
      "Epoch: 0150 cost= 0.194477022 W= 0.44124478 b= -0.5772583\n",
      "Epoch: 0200 cost= 0.180901825 W= 0.42984653 b= -0.49525985\n",
      "Epoch: 0250 cost= 0.168894172 W= 0.41912594 b= -0.41813746\n",
      "Epoch: 0300 cost= 0.158273280 W= 0.40904313 b= -0.345602\n",
      "Epoch: 0350 cost= 0.148878932 W= 0.39955983 b= -0.2773801\n",
      "Epoch: 0400 cost= 0.140569612 W= 0.39064068 b= -0.21321608\n",
      "Epoch: 0450 cost= 0.133220077 W= 0.38225192 b= -0.15286817\n",
      "Epoch: 0500 cost= 0.126719445 W= 0.3743621 b= -0.09610926\n",
      "Epoch: 0550 cost= 0.120969757 W= 0.3669415 b= -0.042726133\n",
      "Epoch: 0600 cost= 0.115884244 W= 0.35996228 b= 0.007482051\n",
      "Epoch: 0650 cost= 0.111386232 W= 0.3533981 b= 0.05470412\n",
      "Epoch: 0700 cost= 0.107407905 W= 0.34722435 b= 0.09911769\n",
      "Epoch: 0750 cost= 0.103889249 W= 0.34141782 b= 0.14088966\n",
      "Epoch: 0800 cost= 0.100777164 W= 0.33595657 b= 0.1801773\n",
      "Epoch: 0850 cost= 0.098024718 W= 0.3308201 b= 0.21712844\n",
      "Epoch: 0900 cost= 0.095590338 W= 0.3259892 b= 0.25188202\n",
      "Epoch: 0950 cost= 0.093437351 W= 0.32144564 b= 0.28456825\n",
      "Epoch: 1000 cost= 0.091533177 W= 0.3171722 b= 0.31531104\n",
      "Epoch: 1050 cost= 0.089849219 W= 0.313153 b= 0.34422442\n",
      "Epoch: 1100 cost= 0.088359885 W= 0.30937284 b= 0.37141892\n",
      "Epoch: 1150 cost= 0.087042734 W= 0.30581737 b= 0.39699638\n",
      "Epoch: 1200 cost= 0.085877940 W= 0.30247355 b= 0.42105162\n",
      "Epoch: 1250 cost= 0.084847853 W= 0.29932854 b= 0.44367665\n",
      "Epoch: 1300 cost= 0.083936885 W= 0.29637063 b= 0.46495622\n",
      "Epoch: 1350 cost= 0.083131298 W= 0.29358846 b= 0.48497042\n",
      "Epoch: 1400 cost= 0.082418956 W= 0.290972 b= 0.5037932\n",
      "Epoch: 1450 cost= 0.081789039 W= 0.28851107 b= 0.5214969\n",
      "Epoch: 1500 cost= 0.081231989 W= 0.2861964 b= 0.53814834\n",
      "Epoch: 1550 cost= 0.080739439 W= 0.2840195 b= 0.55380917\n",
      "Epoch: 1600 cost= 0.080303885 W= 0.28197187 b= 0.5685396\n",
      "Epoch: 1650 cost= 0.079918779 W= 0.2800461 b= 0.5823942\n",
      "Epoch: 1700 cost= 0.079578258 W= 0.2782346 b= 0.5954252\n",
      "Epoch: 1750 cost= 0.079277217 W= 0.27653098 b= 0.607681\n",
      "Epoch: 1800 cost= 0.079011075 W= 0.2749289 b= 0.61920637\n",
      "Epoch: 1850 cost= 0.078775816 W= 0.2734222 b= 0.63004524\n",
      "Epoch: 1900 cost= 0.078567833 W= 0.27200508 b= 0.6402395\n",
      "Epoch: 1950 cost= 0.078383967 W= 0.27067232 b= 0.64982724\n",
      "Epoch: 2000 cost= 0.078221418 W= 0.2694188 b= 0.65884525\n",
      "Epoch: 2050 cost= 0.078077756 W= 0.26823977 b= 0.6673273\n",
      "Epoch: 2100 cost= 0.077950753 W= 0.26713082 b= 0.6753048\n",
      "Epoch: 2150 cost= 0.077838495 W= 0.26608795 b= 0.6828075\n",
      "Epoch: 2200 cost= 0.077739298 W= 0.26510698 b= 0.6898643\n",
      "Epoch: 2250 cost= 0.077651612 W= 0.2641843 b= 0.69650173\n",
      "Epoch: 2300 cost= 0.077574112 W= 0.2633166 b= 0.70274425\n",
      "Epoch: 2350 cost= 0.077505656 W= 0.26250032 b= 0.7086158\n",
      "Epoch: 2400 cost= 0.077445157 W= 0.26173267 b= 0.7141385\n",
      "Epoch: 2450 cost= 0.077391684 W= 0.2610107 b= 0.7193324\n",
      "Epoch: 2500 cost= 0.077344470 W= 0.26033163 b= 0.7242174\n",
      "Epoch: 2550 cost= 0.077302724 W= 0.25969294 b= 0.72881263\n",
      "Epoch: 2600 cost= 0.077265881 W= 0.25909206 b= 0.7331348\n",
      "Epoch: 2650 cost= 0.077233344 W= 0.25852713 b= 0.7371993\n",
      "Epoch: 2700 cost= 0.077204585 W= 0.25799578 b= 0.741022\n",
      "Epoch: 2750 cost= 0.077179208 W= 0.25749594 b= 0.7446176\n",
      "Epoch: 2800 cost= 0.077156790 W= 0.25702584 b= 0.7479996\n",
      "Epoch: 2850 cost= 0.077137001 W= 0.2565837 b= 0.7511804\n",
      "Epoch: 2900 cost= 0.077119537 W= 0.25616777 b= 0.75417227\n",
      "Epoch: 2950 cost= 0.077104114 W= 0.25577667 b= 0.7569859\n",
      "Epoch: 3000 cost= 0.077090524 W= 0.25540864 b= 0.75963306\n",
      "Epoch: 3050 cost= 0.077078521 W= 0.25506282 b= 0.76212156\n",
      "Epoch: 3100 cost= 0.077067927 W= 0.25473726 b= 0.7644636\n",
      "Epoch: 3150 cost= 0.077058591 W= 0.2544311 b= 0.7666655\n",
      "Epoch: 3200 cost= 0.077050351 W= 0.25414333 b= 0.768736\n",
      "Epoch: 3250 cost= 0.077043079 W= 0.25387248 b= 0.77068466\n",
      "Epoch: 3300 cost= 0.077036686 W= 0.25361776 b= 0.7725168\n",
      "Epoch: 3350 cost= 0.077031046 W= 0.25337833 b= 0.7742392\n",
      "Epoch: 3400 cost= 0.077026077 W= 0.25315303 b= 0.77586013\n",
      "Epoch: 3450 cost= 0.077021696 W= 0.25294113 b= 0.7773851\n",
      "Epoch: 3500 cost= 0.077017829 W= 0.25274166 b= 0.7788195\n",
      "Epoch: 3550 cost= 0.077014454 W= 0.2525543 b= 0.78016716\n",
      "Epoch: 3600 cost= 0.077011459 W= 0.2523781 b= 0.7814351\n",
      "Epoch: 3650 cost= 0.077008851 W= 0.25221223 b= 0.7826282\n",
      "Epoch: 3700 cost= 0.077006526 W= 0.25205627 b= 0.7837505\n",
      "Epoch: 3750 cost= 0.077004507 W= 0.2519095 b= 0.78480643\n",
      "Epoch: 3800 cost= 0.077002734 W= 0.25177154 b= 0.7857979\n",
      "Epoch: 3850 cost= 0.077001177 W= 0.25164232 b= 0.78672755\n",
      "Epoch: 3900 cost= 0.076999798 W= 0.25152078 b= 0.787602\n",
      "Epoch: 3950 cost= 0.076998614 W= 0.25140637 b= 0.7884257\n",
      "Epoch: 4000 cost= 0.076997533 W= 0.25129884 b= 0.7891989\n",
      "Epoch: 4050 cost= 0.076996617 W= 0.2511974 b= 0.78992873\n",
      "Epoch: 4100 cost= 0.076995805 W= 0.25110215 b= 0.7906141\n",
      "Epoch: 4150 cost= 0.076995097 W= 0.25101253 b= 0.79125947\n",
      "Epoch: 4200 cost= 0.076994486 W= 0.2509282 b= 0.79186505\n",
      "Epoch: 4250 cost= 0.076993965 W= 0.2508489 b= 0.79243535\n",
      "Epoch: 4300 cost= 0.076993465 W= 0.25077477 b= 0.79296917\n",
      "Epoch: 4350 cost= 0.076993078 W= 0.2507049 b= 0.79347175\n",
      "Epoch: 4400 cost= 0.076992720 W= 0.2506389 b= 0.7939462\n",
      "Epoch: 4450 cost= 0.076992407 W= 0.25057682 b= 0.79439265\n",
      "Epoch: 4500 cost= 0.076992139 W= 0.2505185 b= 0.7948123\n",
      "Epoch: 4550 cost= 0.076991908 W= 0.2504637 b= 0.79520655\n",
      "Epoch: 4600 cost= 0.076991692 W= 0.25041214 b= 0.7955776\n",
      "Epoch: 4650 cost= 0.076991521 W= 0.2503637 b= 0.79592615\n",
      "Epoch: 4700 cost= 0.076991372 W= 0.250318 b= 0.796255\n",
      "Epoch: 4750 cost= 0.076991245 W= 0.25027442 b= 0.7965687\n",
      "Epoch: 4800 cost= 0.076991141 W= 0.25023422 b= 0.79685724\n",
      "Epoch: 4850 cost= 0.076991022 W= 0.25019643 b= 0.79712987\n",
      "Epoch: 4900 cost= 0.076990947 W= 0.2501607 b= 0.79738665\n",
      "Epoch: 4950 cost= 0.076990902 W= 0.250127 b= 0.7976291\n",
      "Epoch: 5000 cost= 0.076990828 W= 0.2500951 b= 0.79785824\n",
      "Epoch: 5050 cost= 0.076990768 W= 0.25006524 b= 0.798074\n",
      "Epoch: 5100 cost= 0.076990731 W= 0.25003707 b= 0.79827654\n",
      "Epoch: 5150 cost= 0.076990701 W= 0.25001094 b= 0.7984633\n",
      "Epoch: 5200 cost= 0.076990694 W= 0.24998638 b= 0.7986399\n",
      "Epoch: 5250 cost= 0.076990642 W= 0.2499636 b= 0.798805\n",
      "Epoch: 5300 cost= 0.076990634 W= 0.24994197 b= 0.79896\n",
      "Epoch: 5350 cost= 0.076990627 W= 0.24992149 b= 0.7991072\n",
      "Epoch: 5400 cost= 0.076990619 W= 0.24990228 b= 0.79924554\n",
      "Epoch: 5450 cost= 0.076990604 W= 0.24988438 b= 0.7993749\n",
      "Epoch: 5500 cost= 0.076990604 W= 0.24986723 b= 0.7994977\n",
      "Epoch: 5550 cost= 0.076990582 W= 0.24985123 b= 0.7996126\n",
      "Epoch: 5600 cost= 0.076990597 W= 0.24983639 b= 0.79971987\n",
      "Epoch: 5650 cost= 0.076990589 W= 0.24982242 b= 0.79982024\n",
      "Epoch: 5700 cost= 0.076990597 W= 0.24980895 b= 0.79991734\n",
      "Epoch: 5750 cost= 0.076990597 W= 0.24979657 b= 0.8000061\n",
      "Epoch: 5800 cost= 0.076990597 W= 0.24978508 b= 0.80008924\n",
      "Epoch: 5850 cost= 0.076990589 W= 0.24977355 b= 0.80017245\n",
      "Epoch: 5900 cost= 0.076990597 W= 0.24976306 b= 0.80024767\n",
      "Epoch: 5950 cost= 0.076990627 W= 0.24975322 b= 0.800318\n",
      "Epoch: 6000 cost= 0.076990612 W= 0.24974364 b= 0.8003867\n",
      "Epoch: 6050 cost= 0.076990627 W= 0.24973468 b= 0.80045164\n",
      "Epoch: 6100 cost= 0.076990642 W= 0.24972631 b= 0.800511\n",
      "Epoch: 6150 cost= 0.076990627 W= 0.24971871 b= 0.80056715\n",
      "Epoch: 6200 cost= 0.076990634 W= 0.24971093 b= 0.80062264\n",
      "Epoch: 6250 cost= 0.076990649 W= 0.24970472 b= 0.80066705\n",
      "Epoch: 6300 cost= 0.076990634 W= 0.24969818 b= 0.8007145\n",
      "Epoch: 6350 cost= 0.076990649 W= 0.24969172 b= 0.8007603\n",
      "Epoch: 6400 cost= 0.076990664 W= 0.24968599 b= 0.80080116\n",
      "Epoch: 6450 cost= 0.076990664 W= 0.2496804 b= 0.8008418\n",
      "Epoch: 6500 cost= 0.076990664 W= 0.2496752 b= 0.8008792\n",
      "Epoch: 6550 cost= 0.076990671 W= 0.24967031 b= 0.8009141\n",
      "Epoch: 6600 cost= 0.076990671 W= 0.24966589 b= 0.8009469\n",
      "Epoch: 6650 cost= 0.076990686 W= 0.24966127 b= 0.8009797\n",
      "Epoch: 6700 cost= 0.076990686 W= 0.24965724 b= 0.80100876\n",
      "Epoch: 6750 cost= 0.076990686 W= 0.24965434 b= 0.8010291\n",
      "Epoch: 6800 cost= 0.076990694 W= 0.24965166 b= 0.80104846\n",
      "Epoch: 6850 cost= 0.076990694 W= 0.24964887 b= 0.80106926\n",
      "Epoch: 6900 cost= 0.076990679 W= 0.24964611 b= 0.80108833\n",
      "Epoch: 6950 cost= 0.076990694 W= 0.24964376 b= 0.8011062\n",
      "Epoch: 7000 cost= 0.076990716 W= 0.24964109 b= 0.8011241\n",
      "Epoch: 7050 cost= 0.076990701 W= 0.24963875 b= 0.801142\n",
      "Epoch: 7100 cost= 0.076990709 W= 0.24963607 b= 0.80116105\n",
      "Epoch: 7150 cost= 0.076990701 W= 0.2496334 b= 0.8011807\n",
      "Epoch: 7200 cost= 0.076990709 W= 0.24963109 b= 0.8011972\n"
     ]
    },
    {
     "name": "stdout",
     "output_type": "stream",
     "text": [
      "Epoch: 7250 cost= 0.076990724 W= 0.24962935 b= 0.8012091\n",
      "Epoch: 7300 cost= 0.076990724 W= 0.24962772 b= 0.801221\n",
      "Epoch: 7350 cost= 0.076990716 W= 0.24962604 b= 0.80123293\n",
      "Epoch: 7400 cost= 0.076990716 W= 0.24962434 b= 0.8012453\n",
      "Epoch: 7450 cost= 0.076990724 W= 0.24962233 b= 0.8012602\n",
      "Epoch: 7500 cost= 0.076990716 W= 0.24962065 b= 0.8012715\n",
      "Epoch: 7550 cost= 0.076990739 W= 0.2496198 b= 0.80127746\n",
      "Epoch: 7600 cost= 0.076990731 W= 0.24961893 b= 0.8012834\n",
      "Epoch: 7650 cost= 0.076990731 W= 0.24961823 b= 0.8012894\n",
      "Epoch: 7700 cost= 0.076990731 W= 0.24961713 b= 0.8012967\n",
      "Epoch: 7750 cost= 0.076990739 W= 0.24961586 b= 0.80130565\n",
      "Epoch: 7800 cost= 0.076990716 W= 0.24961482 b= 0.8013146\n",
      "Epoch: 7850 cost= 0.076990746 W= 0.2496135 b= 0.80132353\n",
      "Epoch: 7900 cost= 0.076990739 W= 0.2496122 b= 0.8013325\n",
      "Epoch: 7950 cost= 0.076990746 W= 0.24961098 b= 0.80134135\n",
      "Epoch: 8000 cost= 0.076990739 W= 0.24961044 b= 0.8013452\n",
      "Epoch: 8050 cost= 0.076990753 W= 0.24960998 b= 0.8013482\n",
      "Epoch: 8100 cost= 0.076990753 W= 0.24960956 b= 0.8013512\n",
      "Epoch: 8150 cost= 0.076990739 W= 0.24960917 b= 0.80135417\n",
      "Epoch: 8200 cost= 0.076990753 W= 0.24960873 b= 0.80135715\n",
      "Epoch: 8250 cost= 0.076990746 W= 0.24960843 b= 0.80136013\n",
      "Epoch: 8300 cost= 0.076990746 W= 0.24960834 b= 0.80136055\n",
      "Epoch: 8350 cost= 0.076990746 W= 0.24960834 b= 0.80136055\n",
      "Epoch: 8400 cost= 0.076990746 W= 0.24960834 b= 0.80136055\n",
      "Epoch: 8450 cost= 0.076990746 W= 0.24960834 b= 0.80136055\n",
      "Epoch: 8500 cost= 0.076990746 W= 0.24960834 b= 0.80136055\n",
      "Epoch: 8550 cost= 0.076990746 W= 0.24960834 b= 0.80136055\n",
      "Epoch: 8600 cost= 0.076990746 W= 0.24960834 b= 0.80136055\n",
      "Epoch: 8650 cost= 0.076990746 W= 0.24960834 b= 0.80136055\n",
      "Epoch: 8700 cost= 0.076990746 W= 0.24960834 b= 0.80136055\n",
      "Epoch: 8750 cost= 0.076990746 W= 0.24960834 b= 0.80136055\n",
      "Epoch: 8800 cost= 0.076990746 W= 0.24960834 b= 0.80136055\n",
      "Epoch: 8850 cost= 0.076990746 W= 0.24960834 b= 0.80136055\n",
      "Epoch: 8900 cost= 0.076990746 W= 0.24960834 b= 0.80136055\n",
      "Epoch: 8950 cost= 0.076990746 W= 0.24960834 b= 0.80136055\n",
      "Epoch: 9000 cost= 0.076990746 W= 0.24960834 b= 0.80136055\n",
      "Epoch: 9050 cost= 0.076990746 W= 0.24960834 b= 0.80136055\n",
      "Epoch: 9100 cost= 0.076990746 W= 0.24960834 b= 0.80136055\n",
      "Epoch: 9150 cost= 0.076990746 W= 0.24960834 b= 0.80136055\n",
      "Epoch: 9200 cost= 0.076990746 W= 0.24960834 b= 0.80136055\n",
      "Epoch: 9250 cost= 0.076990746 W= 0.24960834 b= 0.80136055\n",
      "Epoch: 9300 cost= 0.076990746 W= 0.24960834 b= 0.80136055\n",
      "Epoch: 9350 cost= 0.076990746 W= 0.24960834 b= 0.80136055\n",
      "Epoch: 9400 cost= 0.076990746 W= 0.24960834 b= 0.80136055\n",
      "Epoch: 9450 cost= 0.076990746 W= 0.24960834 b= 0.80136055\n",
      "Epoch: 9500 cost= 0.076990746 W= 0.24960834 b= 0.80136055\n",
      "Epoch: 9550 cost= 0.076990746 W= 0.24960834 b= 0.80136055\n",
      "Epoch: 9600 cost= 0.076990746 W= 0.24960834 b= 0.80136055\n",
      "Epoch: 9650 cost= 0.076990746 W= 0.24960834 b= 0.80136055\n",
      "Epoch: 9700 cost= 0.076990746 W= 0.24960834 b= 0.80136055\n",
      "Epoch: 9750 cost= 0.076990746 W= 0.24960834 b= 0.80136055\n",
      "Epoch: 9800 cost= 0.076990746 W= 0.24960834 b= 0.80136055\n",
      "Epoch: 9850 cost= 0.076990746 W= 0.24960834 b= 0.80136055\n",
      "Epoch: 9900 cost= 0.076990746 W= 0.24960834 b= 0.80136055\n",
      "Epoch: 9950 cost= 0.076990746 W= 0.24960834 b= 0.80136055\n",
      "Epoch: 10000 cost= 0.076990746 W= 0.24960834 b= 0.80136055\n",
      "Optimization Finished!\n",
      "Training cost= 0.076990746 W= 0.24960834 b= 0.80136055 \n",
      "\n"
     ]
    },
    {
     "data": {
      "image/png": "[encoded data removed]",
      "text/plain": [
       "<matplotlib.figure.Figure at 0x119022450>"
      ]
     },
     "metadata": {},
     "output_type": "display_data"
    },
    {
     "name": "stdout",
     "output_type": "stream",
     "text": [
      "Testing... (Mean square loss Comparison)\n",
      "('Testing cost=', 0.07910849)\n",
      "('Absolute mean square loss difference:', 0.0021177456)\n"
     ]
    },
    {
     "data": {
      "image/png": "[encoded data removed]",
      "text/plain": [
       "<matplotlib.figure.Figure at 0x119182b50>"
      ]
     },
     "metadata": {},
     "output_type": "display_data"
    }
   ],
   "source": [
    "# 开始训练\n",
    "with tf.Session() as sess:\n",
    "    sess.run(init)\n",
    "\n",
    "    # 灌入所有训练数据\n",
    "    for epoch in range(training_epochs):\n",
    "        for (x, y) in zip(train_X, train_Y):\n",
    "            sess.run(optimizer, feed_dict={X: x, Y: y})\n",
    "\n",
    "        # 打印出每次迭代的log日志\n",
    "        if (epoch+1) % display_step == 0:\n",
    "            c = sess.run(cost, feed_dict={X: train_X, Y:train_Y})\n",
    "            print \"Epoch:\", '%04d' % (epoch+1), \"cost=\", \"{:.9f}\".format(c), \\\n",
    "                \"W=\", sess.run(W), \"b=\", sess.run(b)\n",
    "\n",
    "    print \"Optimization Finished!\"\n",
    "    training_cost = sess.run(cost, feed_dict={X: train_X, Y: train_Y})\n",
    "    print \"Training cost=\", training_cost, \"W=\", sess.run(W), \"b=\", sess.run(b), '\\n'\n",
    "\n",
    "    # 作图\n",
    "    plt.plot(train_X, train_Y, 'ro', label='Original data')\n",
    "    plt.plot(train_X, sess.run(W) * train_X + sess.run(b), label='Fitted line')\n",
    "    plt.legend()\n",
    "    plt.show()\n",
    "    \n",
    "    # 测试样本\n",
    "    test_X = numpy.asarray([6.83, 4.668, 8.9, 7.91, 5.7, 8.7, 3.1, 2.1])\n",
    "    test_Y = numpy.asarray([1.84, 2.273, 3.2, 2.831, 2.92, 3.24, 1.35, 1.03])\n",
    "\n",
    "    print(\"Testing... (Mean square loss Comparison)\")\n",
    "    testing_cost = sess.run(\n",
    "        tf.reduce_sum(tf.pow(pred - Y, 2)) / (2 * test_X.shape[0]),\n",
    "        feed_dict={X: test_X, Y: test_Y})  # same function as cost above\n",
    "    print(\"Testing cost=\", testing_cost)\n",
    "    print(\"Absolute mean square loss difference:\", abs(\n",
    "        training_cost - testing_cost))\n",
    "\n",
    "    plt.plot(test_X, test_Y, 'bo', label='Testing data')\n",
    "    plt.plot(train_X, sess.run(W) * train_X + sess.run(b), label='Fitted line')\n",
    "    plt.legend()\n",
    "    plt.show()"
   ]
  }
 ],
 "metadata": {
  "anaconda-cloud": {},
  "kernelspec": {
   "display_name": "Python 2",
   "language": "python",
   "name": "python2"
  },
  "language_info": {
   "codemirror_mode": {
    "name": "ipython",
    "version": 2
   },
   "file_extension": ".py",
   "mimetype": "text/x-python",
   "name": "python",
   "nbconvert_exporter": "python",
   "pygments_lexer": "ipython2",
   "version": "2.7.13"
  }
 },
 "nbformat": 4,
 "nbformat_minor": 1
}
