{
 "cells": [
  {
   "cell_type": "markdown",
   "metadata": {},
   "source": [
    "## SSD的Tensorflow实现"
   ]
  },
  {
   "cell_type": "markdown",
   "metadata": {},
   "source": [
    "- 定义ssd的网络参数"
   ]
  },
  {
   "cell_type": "code",
   "execution_count": null,
   "metadata": {
    "collapsed": true
   },
   "outputs": [],
   "source": [
    "self.ssd_params = SSDParams(img_shape=(300, 300),   # 输入图片大小\n",
    "                                    num_classes=21,     # 类别数+背景\n",
    "                                    no_annotation_label=21,\n",
    "                                    feat_layers=[\"block4\", \"block7\", \"block8\", \"block9\", \"block10\", \"block11\"],   # 要进行检测的特征图name\n",
    "                                    feat_shapes=[(38, 38), (19, 19), (10, 10), (5, 5), (3, 3), (1, 1)],  # 特征图大小\n",
    "                                    anchor_size_bounds=[0.15, 0.90],  # 特征图尺度范围\n",
    "                                    anchor_sizes=[(21., 45.),\n",
    "                                                  (45., 99.),\n",
    "                                                  (99., 153.),\n",
    "                                                  (153., 207.),\n",
    "                                                  (207., 261.),\n",
    "                                                  (261., 315.)],  # 不同特征图的先验框尺度（第一个值是s_k，第2个值是s_k+1）\n",
    "                                    anchor_ratios=[[2, .5],\n",
    "                                                   [2, .5, 3, 1. / 3],\n",
    "                                                   [2, .5, 3, 1. / 3],\n",
    "                                                   [2, .5, 3, 1. / 3],\n",
    "                                                   [2, .5],\n",
    "                                                   [2, .5]], # 特征图先验框所采用的长宽比（每个特征图都有2个正方形先验框）\n",
    "                                    anchor_steps=[8, 16, 32, 64, 100, 300],  # 特征图的单元大小\n",
    "                                    anchor_offset=0.5,                       # 偏移值，确定先验框中心\n",
    "                                    normalizations=[20, -1, -1, -1, -1, -1],  # l2 norm\n",
    "                                    prior_scaling=[0.1, 0.1, 0.2, 0.2]       # variance\n",
    "                                    )"
   ]
  }
 ],
 "metadata": {
  "kernelspec": {
   "display_name": "Python 2",
   "language": "python",
   "name": "python2"
  },
  "language_info": {
   "codemirror_mode": {
    "name": "ipython",
    "version": 2
   },
   "file_extension": ".py",
   "mimetype": "text/x-python",
   "name": "python",
   "nbconvert_exporter": "python",
   "pygments_lexer": "ipython2",
   "version": "2.7.13"
  }
 },
 "nbformat": 4,
 "nbformat_minor": 2
}
