{
 "cells": [
  {
   "cell_type": "markdown",
   "metadata": {},
   "source": [
    "## Autoencoder的代码实现"
   ]
  },
  {
   "cell_type": "code",
   "execution_count": null,
   "metadata": {
    "collapsed": true
   },
   "outputs": [],
   "source": [
    "### 定义NN类和Autoencoder类"
   ]
  },
  {
   "cell_type": "code",
   "execution_count": null,
   "metadata": {
    "collapsed": true
   },
   "outputs": [],
   "source": [
    "import numpy as np\n",
    "#import pandas as pd\n",
    "\n",
    "#创建神经网络类\n",
    "# nodes为1*n矩阵，表示每一层有多少个节点\n",
    "class nn():\n",
    "    def __init__(self,nodes):\n",
    "        self.layers = len(nodes)\n",
    "        self.nodes = nodes;\n",
    "        # 学习率\n",
    "        self.u = 1.0;\n",
    "        # 权值\n",
    "        self.W = list();\n",
    "        # 偏差值\n",
    "        self.B = list()\n",
    "        # 层值\n",
    "        self.values = list();\n",
    "        # 误差\n",
    "        self.error = 0;\n",
    "        # 损失\n",
    "        self.loss = 0;\n",
    "\n",
    "        for i in range(self.layers-1):\n",
    "            # 权值初始化，权重范围-0.5~0.5\n",
    "            self.W.append(np.random.random((self.nodes[i],self.nodes[i+1])) - 0.5)   \n",
    "            # B值初始化\n",
    "            self.B.append(0)\n",
    "            # P值初始化\n",
    "#            self.P.append(0)\n",
    "        \n",
    "        for j in range(self.layers):\n",
    "            # values值初始化\n",
    "            self.values.append(0)\n",
    "            \n",
    "            \n",
    "#创建autoencoder类，可以看成是多个神经网络简单的堆叠而来\n",
    "class autoencoder():\n",
    "    def __init__(self):\n",
    "        self.encoders = list()\n",
    "    def add_one(self,nn):\n",
    "        self.encoders.append(nn)"
   ]
  },
  {
   "cell_type": "code",
   "execution_count": null,
   "metadata": {
    "collapsed": true
   },
   "outputs": [],
   "source": []
  },
  {
   "cell_type": "code",
   "execution_count": null,
   "metadata": {
    "collapsed": true
   },
   "outputs": [],
   "source": []
  }
 ],
 "metadata": {
  "kernelspec": {
   "display_name": "Python 2",
   "language": "python",
   "name": "python2"
  },
  "language_info": {
   "codemirror_mode": {
    "name": "ipython",
    "version": 2
   },
   "file_extension": ".py",
   "mimetype": "text/x-python",
   "name": "python",
   "nbconvert_exporter": "python",
   "pygments_lexer": "ipython2",
   "version": "2.7.13"
  }
 },
 "nbformat": 4,
 "nbformat_minor": 2
}
