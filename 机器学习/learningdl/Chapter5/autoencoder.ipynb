{
 "cells": [
  {
   "cell_type": "markdown",
   "metadata": {},
   "source": [
    "## Autoencoder的代码实现"
   ]
  },
  {
   "cell_type": "markdown",
   "metadata": {},
   "source": [
    "### 定义NN类和Autoencoder类"
   ]
  },
  {
   "cell_type": "code",
   "execution_count": null,
   "metadata": {
    "collapsed": true
   },
   "outputs": [],
   "source": [
    "import numpy as np\n",
    "#import pandas as pd\n",
    "\n",
    "#创建神经网络类\n",
    "# nodes为1*n矩阵，表示每一层有多少个节点\n",
    "class nn():\n",
    "    def __init__(self,nodes):\n",
    "        self.layers = len(nodes)\n",
    "        self.nodes = nodes;\n",
    "        # 学习率\n",
    "        self.u = 1.0;\n",
    "        # 权值\n",
    "        self.W = list();\n",
    "        # 偏差值\n",
    "        self.B = list()\n",
    "        # 层值\n",
    "        self.values = list();\n",
    "        # 误差\n",
    "        self.error = 0;\n",
    "        # 损失\n",
    "        self.loss = 0;\n",
    "\n",
    "        for i in range(self.layers-1):\n",
    "            # 权值初始化，权重范围-0.5~0.5\n",
    "            self.W.append(np.random.random((self.nodes[i],self.nodes[i+1])) - 0.5)   \n",
    "            # B值初始化\n",
    "            self.B.append(0)\n",
    "\n",
    "        \n",
    "        for j in range(self.layers):\n",
    "            # values值初始化\n",
    "            self.values.append(0)\n",
    "            \n",
    "            \n",
    "#创建autoencoder类，可以看成是多个神经网络简单的堆叠而来\n",
    "class autoencoder():\n",
    "    def __init__(self):\n",
    "        self.encoders = list()\n",
    "    def add_one(self,nn):\n",
    "        self.encoders.append(nn)"
   ]
  },
  {
   "cell_type": "markdown",
   "metadata": {},
   "source": [
    "### 构建Autoencoder框架"
   ]
  },
  {
   "cell_type": "code",
   "execution_count": null,
   "metadata": {},
   "outputs": [],
   "source": [
    "import numpy as np\n",
    "from base import nn,autoencoder\n",
    "\n",
    "# 激活函数\n",
    "def sigmod(x):\n",
    "    return 1.0 / (1.0 + np.exp(-x))\n",
    "\n",
    "#前馈函数\n",
    "def nnff(nn,x,y):\n",
    "    layers = nn.layers\n",
    "    numbers = x.shape[0]\n",
    "    # 赋予初值\n",
    "    nn.values[0] = x\n",
    "    for i in range(1,layers):\n",
    "        nn.values[i] = sigmod(np.dot(nn.values[i-1],nn.W[i-1])+nn.B[i-1])\n",
    "    # 最后一层与实际的误差\n",
    "    nn.error = y - nn.values[layers-1]\n",
    "    nn.loss = 1.0/2.0*(nn.error**2).sum()/numbers\n",
    "    return nn \n",
    "\n",
    "#BP函数\n",
    "def nnbp(nn):\n",
    "    layers = nn.layers;\n",
    "    #初始化delta\n",
    "    \n",
    "    deltas = list();\n",
    "    for i in range(layers):\n",
    "        deltas.append(0)\n",
    "    \n",
    "    #最后一层的delta为\n",
    "    deltas[layers-1] = -nn.error*nn.values[layers-1]*(1-nn.values[layers-1])\n",
    "    #其他层的delta为\n",
    "    for j in range(1,layers-1)[::-1]:#倒过来\n",
    "        deltas[j] = np.dot(deltas[j+1],nn.W[j].T)*nn.values[j]*(1-nn.values[j])\n",
    "    #更新W值\n",
    "    for k in range(layers-1):\n",
    "        nn.W[k] -= nn.u*np.dot(nn.values[k].T,deltas[k+1])/(deltas[k+1].shape[0])\n",
    "        nn.B[k] -= nn.u*deltas[k+1]/(deltas[k+1].shape[0])\n",
    "    return nn\n",
    "\n",
    "#对神经网络进行训练\n",
    "def nntrain(nn,x,y,iterations):\n",
    "    for i in range(iterations):\n",
    "        nnff(nn,x,y)\n",
    "        nnbp(nn)\n",
    "    return nn\n",
    "\n",
    "#建立autoencoder框架\n",
    "def aebuilder(nodes):\n",
    "    layers = len(nodes)\n",
    "    ae = autoencoder()\n",
    "    for i in range(layers-1):\n",
    "        ae.add_one(nn([nodes[i],nodes[i+1],nodes[i]]))    \n",
    "    return ae\n",
    "        \n",
    "#训练autoencoder\n",
    "def aetrain(ae,x,interations):\n",
    "    elayers = len(ae.encoders)\n",
    "    for i in range(elayers):\n",
    "        #单层训练\n",
    "        ae.encoders[i] = nntrain(ae.encoders[i],x,x,interations)\n",
    "        #单层训练后，获取该层中间层的值，作为下一层的训练\n",
    "        nntemp = nnff(ae.encoders[i],x,x)\n",
    "        x = nntemp.values[1]   \n",
    "    return ae  "
   ]
  },
  {
   "cell_type": "markdown",
   "metadata": {},
   "source": [
    "### 验证结果"
   ]
  },
  {
   "cell_type": "code",
   "execution_count": null,
   "metadata": {},
   "outputs": [],
   "source": [
    "import autoencoder\n",
    "from base import autoencoder,nn\n",
    "import numpy as np\n",
    "\n",
    "x = np.array([[0,0,1,0,0],\n",
    "            [0,1,1,0,1],\n",
    "            [1,0,0,0,1],\n",
    "            [1,1,1,0,0],\n",
    "            [0,1,0,1,0],\n",
    "            [0,1,1,1,1],\n",
    "            [0,1,0,0,1],\n",
    "            [0,1,1,0,1],\n",
    "            [1,1,1,1,0],\n",
    "            [0,0,0,1,0]])\n",
    "y = np.array([[0],\n",
    "            [1],\n",
    "            [0],\n",
    "            [1],\n",
    "            [0],\n",
    "            [1],\n",
    "            [0],\n",
    "            [1],\n",
    "            [1],\n",
    "            [0]])\n",
    "#################################\n",
    "# step1 建立autoencoder\n",
    "#弄两层autoencoder\n",
    "nodes=[5,3,2]\n",
    "#建立auto框架\n",
    "ae = autoencoder.aebuilder(nodes)\n",
    "#设置部分参数\n",
    "#训练\n",
    "ae = autoencoder.aetrain(ae, x, 6000)\n",
    "##############################\n",
    "# step2 微调\n",
    "#建立完全体的autoencoder\n",
    "nodescomplete = np.array([5,3,2,1])\n",
    "aecomplete = nn(nodescomplete)\n",
    "for i in range(len(nodescomplete)-2):\n",
    "    aecomplete.W[i] = ae.encoders[i].W[0]\n",
    "    \n",
    "aecomplete = autoencoder.nntrain(aecomplete, x, y, 6000)\n",
    "print aecomplete.values[3]"
   ]
  },
  {
   "cell_type": "code",
   "execution_count": null,
   "metadata": {
    "collapsed": true
   },
   "outputs": [],
   "source": []
  },
  {
   "cell_type": "code",
   "execution_count": null,
   "metadata": {
    "collapsed": true
   },
   "outputs": [],
   "source": []
  }
 ],
 "metadata": {
  "kernelspec": {
   "display_name": "Python 2",
   "language": "python",
   "name": "python2"
  },
  "language_info": {
   "codemirror_mode": {
    "name": "ipython",
    "version": 2
   },
   "file_extension": ".py",
   "mimetype": "text/x-python",
   "name": "python",
   "nbconvert_exporter": "python",
   "pygments_lexer": "ipython2",
   "version": "2.7.13"
  }
 },
 "nbformat": 4,
 "nbformat_minor": 2
}
